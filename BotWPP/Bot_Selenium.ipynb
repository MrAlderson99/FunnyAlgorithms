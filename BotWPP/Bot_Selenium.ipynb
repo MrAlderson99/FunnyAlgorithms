{
 "cells": [
  {
   "cell_type": "code",
   "execution_count": 1,
   "metadata": {},
   "outputs": [],
   "source": [
    "from selenium import webdriver\n",
    "#browser = webdriver.Firefox()\n",
    "\n",
    "browser = webdriver.Chrome(executable_path=r\"chromedriver.exe\")\n",
    "\n",
    "browser.get('https://web.whatsapp.com')"
   ]
  },
  {
   "cell_type": "code",
   "execution_count": null,
   "metadata": {},
   "outputs": [],
   "source": [
    "from selenium import webdriver\n",
    "from bs4 import BeautifulSoup\n",
    "import requests\n",
    "from time import sleep\n",
    "\n",
    "def getNews():\n",
    "    url = \"https://www.google.com/\"\n",
    "    text_box = browser.find_element_by_class_name(\"_2S1VP\")\n",
    "    response = \"Let me fetch and send top 5 latest news:\\n\"\n",
    "    text_box.send_keys(response)\n",
    "    soup = BeautifulSoup(requests.get(url).content, \"html5lib\")\n",
    "    articles = soup.find_all('article', class_=\"MQsxIb xTewfe R7GTQ keNKEd j7vNaf Cc0Z5d YKEnGe EyNMab t6ttFe Fm1jeb EjqUne\")\n",
    "    news = [i.find_all('a',class_=\"ipQwMb Q7tWef\")[0].text for i in articles[:5]]\n",
    "    links = [root+i.find('a')['href'][1:] for i in articles[:5]]\n",
    "    links = [requests.get(\"http://thelink.la/api-shorten.php?url=\"+link).content.decode() for link in links]\n",
    "    for i in range(5):\n",
    "        text_box.send_keys(news[i] + \"==>\" + links[i] + \"\\n\")\n",
    "\n",
    "bot_users = {} # A dictionary that stores all the users that sent activate bot \n",
    "while True:\n",
    "    unread = browser.find_elements_by_class_name(\"OUeyt\") # The green dot tells us that the message is new\n",
    "    name,message  = '',''\n",
    "    if len(unread) > 0:\n",
    "        ele = unread[-1]\n",
    "        action = webdriver.common.action_chains.ActionChains(browser)\n",
    "        action.move_to_element_with_offset(ele, 0, -20) # move a bit to the left from the green dot\n",
    "        \n",
    "        # Clicking couple of times because sometimes whatsapp web responds after two clicks\n",
    "        try:\n",
    "            action.click()\n",
    "            action.perform()\n",
    "            action.click()\n",
    "            action.perform()\n",
    "        except Exception as e:\n",
    "            pass\n",
    "        try:\n",
    "            name = browser.find_element_by_class_name(\"_1wjpf\").text  # Contact name\n",
    "            message = browser.find_elements_by_class_name(\"vW7d1\")[-1]  # the message content\n",
    "            if 'activate bot' in message.text.lower():\n",
    "                if name not in bot_users:\n",
    "                    bot_users[name] = True\n",
    "                    text_box = browser.find_element_by_class_name(\"_2S1VP\")\n",
    "                    #response = \"Hi \"+name+\". I'm Jarvis :). Now I am activated for you\\n\"\n",
    "                    text_box.send_keys(response)\n",
    "            if name in bot_users:\n",
    "                if 'show' in message.text.lower() and 'news' in message.text.lower():\n",
    "                    getNews()\n",
    "            if 'deactivate' in message.text.lower():\n",
    "                if name in bot_users:\n",
    "                    text_box = browser.find_element_by_class_name(\"_2S1VP\")\n",
    "                    response = \"Bye \"+name+\".\\n\"\n",
    "                    text_box.send_keys(response)\n",
    "                    del bot_users[name]\n",
    "        except Exception as e:\n",
    "            print(e)\n",
    "            pass\n",
    "    sleep(1) # A 2 second pause so that the program doesn't run too fast"
   ]
  }
 ],
 "metadata": {
  "kernelspec": {
   "display_name": "Python 3",
   "language": "python",
   "name": "python3"
  },
  "language_info": {
   "codemirror_mode": {
    "name": "ipython",
    "version": 3
   },
   "file_extension": ".py",
   "mimetype": "text/x-python",
   "name": "python",
   "nbconvert_exporter": "python",
   "pygments_lexer": "ipython3",
   "version": "3.7.1"
  }
 },
 "nbformat": 4,
 "nbformat_minor": 2
}
